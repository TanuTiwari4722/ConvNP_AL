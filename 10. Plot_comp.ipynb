{
 "cells": [
  {
   "cell_type": "code",
   "execution_count": 3,
   "metadata": {},
   "outputs": [],
   "source": [
    "import logging\n",
    "logging.captureWarnings(True)\n",
    "\n",
    "import deepsensor.torch\n",
    "from deepsensor.model import ConvNP\n",
    "from deepsensor.train import Trainer, set_gpu_default_device\n",
    "from deepsensor.data import DataProcessor, TaskLoader, construct_circ_time_ds\n",
    "from deepsensor.data.sources import get_era5_reanalysis_data, get_earthenv_auxiliary_data, get_gldas_land_mask\n",
    "\n",
    "import xarray as xr\n",
    "import cartopy.crs as ccrs\n",
    "import matplotlib.pyplot as plt\n",
    "import pandas as pd\n",
    "import numpy as np\n",
    "from tqdm import tqdm_notebook"
   ]
  },
  {
   "cell_type": "code",
   "execution_count": 4,
   "metadata": {},
   "outputs": [],
   "source": [
    "from deepsensor.active_learning.acquisition_fns import MeanStddev\n",
    "from deepsensor.active_learning import GreedyAlgorithm"
   ]
  },
  {
   "cell_type": "code",
   "execution_count": 5,
   "metadata": {},
   "outputs": [],
   "source": [
    "# Training/data config\n",
    "data_range = (\"2018-01-01\", \"2019-03-31\")\n",
    "train_range = (\"2018-01-01\", \"2018-12-31\")\n",
    "val_range = (\"2019-01-01\", \"2019-03-31\")\n",
    "date_subsample_factor = 2\n",
    "extent = \"north_america\"\n",
    "era5_var_IDs = [\"2m_temperature\"]\n",
    "lowres_auxiliary_var_IDs = [\"elevation\"]\n",
    "cache_dir = \"mycache\"\n",
    "deepsensor_folder = \"deepsensor_config/\"\n",
    "verbose_download = True"
   ]
  },
  {
   "cell_type": "code",
   "execution_count": 6,
   "metadata": {},
   "outputs": [
    {
     "name": "stdout",
     "output_type": "stream",
     "text": [
      "Downloading ERA5 data from Google Cloud Storage... Using 8 CPUs out of 32... \n"
     ]
    },
    {
     "name": "stderr",
     "output_type": "stream",
     "text": [
      "100%|██████████| 15/15 [00:00<00:00, 68.24it/s]\n"
     ]
    },
    {
     "name": "stdout",
     "output_type": "stream",
     "text": [
      "0.18 GB loaded in 0.33 s\n"
     ]
    }
   ],
   "source": [
    "lowres_aux_raw_ds = get_earthenv_auxiliary_data(lowres_auxiliary_var_IDs, extent, \"100KM\", cache=True, cache_dir=cache_dir, verbose=verbose_download)\n",
    "land_mask_raw_ds = get_gldas_land_mask(extent, cache=True, cache_dir=cache_dir, verbose=verbose_download)\n",
    "era5_raw_ds = get_era5_reanalysis_data(era5_var_IDs, extent, date_range=data_range, cache=True, cache_dir=cache_dir, verbose=verbose_download, num_processes=8)\n",
    "\n",
    "data_processor = DataProcessor(x1_name=\"lat\", x2_name=\"lon\")\n",
    "era5_ds = data_processor(era5_raw_ds, method=\"min_max\")\n",
    "lowres_aux_ds, land_mask_ds = data_processor([lowres_aux_raw_ds, land_mask_raw_ds], method=\"min_max\")\n",
    "\n",
    "dates = pd.date_range(era5_ds.time.values.min(), era5_ds.time.values.max(), freq=\"D\")\n",
    "doy_ds = construct_circ_time_ds(dates, freq=\"D\")\n",
    "lowres_aux_ds[\"cos_D\"] = doy_ds[\"cos_D\"]\n",
    "lowres_aux_ds[\"sin_D\"] = doy_ds[\"sin_D\"]"
   ]
  },
  {
   "cell_type": "code",
   "execution_count": 7,
   "metadata": {},
   "outputs": [
    {
     "name": "stdout",
     "output_type": "stream",
     "text": [
      "DataProcessor with normalisation params:\n",
      "{'2m_temperature': {'method': 'min_max',\n",
      "                    'params': {'max': 314.31219482421875,\n",
      "                               'min': 219.44639587402344}},\n",
      " 'GLDAS_mask': {'method': 'min_max', 'params': {'max': 1.0, 'min': 0.0}},\n",
      " 'coords': {'time': {'name': 'time'},\n",
      "            'x1': {'map': (15.0, 115.0), 'name': 'lat'},\n",
      "            'x2': {'map': (-160.0, -60.0), 'name': 'lon'}},\n",
      " 'elevation': {'method': 'min_max',\n",
      "               'params': {'max': 3228.330810546875,\n",
      "                          'min': -6.24999984211172e-06}}}\n"
     ]
    }
   ],
   "source": [
    "print(data_processor)"
   ]
  },
  {
   "cell_type": "code",
   "execution_count": 8,
   "metadata": {},
   "outputs": [],
   "source": [
    "# task_loader = TaskLoader(\n",
    "#     context=[era5_ds, land_mask_ds, lowres_aux_ds],\n",
    "#     target=era5_ds,\n",
    "# )\n",
    "# task_loader.load_dask()\n",
    "# print(task_loader)"
   ]
  },
  {
   "cell_type": "code",
   "execution_count": 9,
   "metadata": {},
   "outputs": [],
   "source": [
    "# Converting to dataframe for easier wokring\n",
    "era5_ds_df = era5_ds.to_dataframe()\n",
    "\n",
    "# Randomly taking some 50 lat-long locations as initial sensor placement\n",
    "lat_long_pairs = era5_ds[['x1','x2']].to_dataframe().reset_index().sample(n=50).to_numpy()\n",
    "\n",
    "# Initial sensor location data\n",
    "Initial_sensor_locations = pd.merge(era5_ds_df.reset_index(),pd.DataFrame(lat_long_pairs,columns=['x1','x2']), on =['x1','x2'],how='inner').set_index(['time','x1','x2'])"
   ]
  },
  {
   "cell_type": "code",
   "execution_count": 10,
   "metadata": {},
   "outputs": [],
   "source": [
    "# task_loader_train = TaskLoader(\n",
    "#     context=[Initial_sensor_locations, land_mask_ds, lowres_aux_ds],\n",
    "#     target=era5_ds,\n",
    "# )\n",
    "# task_loader_train.load_dask()\n",
    "# print(task_loader_train)\n",
    "\n",
    "# print()\n",
    "\n",
    "# task_loader_val = TaskLoader(\n",
    "#     context=[Initial_sensor_locations, land_mask_ds, lowres_aux_ds],\n",
    "#     target=era5_ds,\n",
    "# )\n",
    "# task_loader_val.load_dask()\n",
    "# print(task_loader_val)"
   ]
  },
  {
   "cell_type": "code",
   "execution_count": 11,
   "metadata": {},
   "outputs": [],
   "source": [
    "def gen_tasks(dates,task_loader, progress = True):\n",
    "    tasks = []\n",
    "    for date in tqdm_notebook(dates, disable = not progress):\n",
    "        task = task_loader(date, context_sampling=['all', \"all\", \"all\"], target_sampling=\"all\")\n",
    "        tasks.append(task)\n",
    "    return tasks\n",
    "\n",
    "def compute_val_rmse(model, val_tasks):\n",
    "    errors = []\n",
    "    target_var_ID = \"2m_temperature\"\n",
    "    for task in val_tasks:\n",
    "        mean = data_processor.map_array(model.mean(task),target_var_ID, unnorm= True)\n",
    "        true = data_processor.map_array(task[\"Y_t\"][0],target_var_ID, unnorm=True)\n",
    "        errors.extend(np.abs(mean - true))\n",
    "    return np.sqrt(np.mean(np.concatenate(errors)**2))\n",
    "\n",
    "def compute_std(model,val_tasks):\n",
    "    stds = []\n",
    "    for task in val_tasks:\n",
    "        pred = model.predict(task, X_t=era5_raw_ds)\n",
    "        stds.append(pred['2m_temperature']['std'].to_dataframe().mean()[0])\n",
    "\n",
    "    return np.mean(stds)\n",
    "\n",
    "def train_model(model,train_tasks,val_tasks=None,epochs=5):\n",
    "    losses = []\n",
    "    val_rmses = []\n",
    "    stds =  []\n",
    "    trainer = Trainer(model, lr = 5e-5)\n",
    "    for epoch in tqdm_notebook(range(epochs)):\n",
    "        \n",
    "        batch_losses = trainer(train_tasks)\n",
    "\n",
    "        if val_tasks:\n",
    "            losses.append(np.mean(batch_losses))\n",
    "            val_rmses.append(compute_val_rmse(model,val_tasks))\n",
    "            stds.append(compute_std(model,val_tasks))\n",
    "            print(\"Epoch {} | Error {:.2f} | std {:.2f}\".format(epoch+1,val_rmses[-1],stds[-1]))"
   ]
  },
  {
   "cell_type": "code",
   "execution_count": 12,
   "metadata": {},
   "outputs": [],
   "source": [
    "# # initializing train dates\n",
    "# train_dates = pd.date_range(train_range[0],train_range[1])[::2]\n",
    "# train_tasks = gen_tasks(train_dates,task_loader_train)\n",
    "\n",
    "# # initialzing val dates\n",
    "# # val_dates = pd.date_range(val_range[0], val_range[1])\n",
    "# val_dates = [pd.to_datetime(val_range[0])]\n",
    "# val_tasks = gen_tasks(val_dates,task_loader_val)"
   ]
  },
  {
   "cell_type": "code",
   "execution_count": 13,
   "metadata": {},
   "outputs": [],
   "source": [
    "\n",
    "\n",
    "# greedy_alg = GreedyAlgorithm(\n",
    "#     model=model,\n",
    "#     X_t=era5_raw_ds,\n",
    "#     X_s=era5_raw_ds.coarsen(lat=15, lon=15, boundary=\"trim\").mean(),  # Coarsen search points to speed up computation\n",
    "#     X_s_mask=land_mask_raw_ds,  # Mask out ocean from search points\n",
    "#     X_t_mask=land_mask_raw_ds,  # Mask out ocean from target points\n",
    "#     N_new_context=1,\n",
    "#     progress_bar=True,\n",
    "# )"
   ]
  },
  {
   "cell_type": "code",
   "execution_count": 17,
   "metadata": {},
   "outputs": [
    {
     "name": "stdout",
     "output_type": "stream",
     "text": [
      "TaskLoader(3 context sets, 1 target sets)\n",
      "Context variable IDs: (('2m_temperature',), ('GLDAS_mask',), ('elevation', 'cos_D', 'sin_D'))\n",
      "Target variable IDs: (('2m_temperature',),)\n",
      "\n",
      "TaskLoader(3 context sets, 1 target sets)\n",
      "Context variable IDs: (('2m_temperature',), ('GLDAS_mask',), ('elevation', 'cos_D', 'sin_D'))\n",
      "Target variable IDs: (('2m_temperature',),)\n",
      "dim_yc inferred from TaskLoader: (1, 1, 3)\n",
      "dim_yt inferred from TaskLoader: 1\n",
      "dim_aux_t inferred from TaskLoader: 0\n",
      "internal_density inferred from TaskLoader: 400\n",
      "encoder_scales inferred from TaskLoader: [0.00125, np.float32(0.00125), np.float32(0.0041666664)]\n",
      "decoder_scale inferred from TaskLoader: 0.0025\n"
     ]
    },
    {
     "data": {
      "application/vnd.jupyter.widget-view+json": {
       "model_id": "c96fb7d4535445a4b04c9a6547ac8dbd",
       "version_major": 2,
       "version_minor": 0
      },
      "text/plain": [
       "  0%|          | 0/183 [00:00<?, ?it/s]"
      ]
     },
     "metadata": {},
     "output_type": "display_data"
    },
    {
     "data": {
      "application/vnd.jupyter.widget-view+json": {
       "model_id": "c782155d476644ceb169a5f58908965a",
       "version_major": 2,
       "version_minor": 0
      },
      "text/plain": [
       "  0%|          | 0/1 [00:00<?, ?it/s]"
      ]
     },
     "metadata": {},
     "output_type": "display_data"
    },
    {
     "name": "stdout",
     "output_type": "stream",
     "text": [
      "30.64563\n",
      "54.92167\n"
     ]
    },
    {
     "data": {
      "application/vnd.jupyter.widget-view+json": {
       "model_id": "16f74ba7a4424ed6b9c70e3ce2c193dc",
       "version_major": 2,
       "version_minor": 0
      },
      "text/plain": [
       "  0%|          | 0/5 [00:00<?, ?it/s]"
      ]
     },
     "metadata": {},
     "output_type": "display_data"
    },
    {
     "name": "stdout",
     "output_type": "stream",
     "text": [
      "Epoch 1 | Error 14.01 | std 15.25\n",
      "Epoch 2 | Error 16.90 | std 19.66\n",
      "Epoch 3 | Error 10.54 | std 12.35\n",
      "Epoch 4 | Error 9.44 | std 8.51\n",
      "Epoch 5 | Error 8.97 | std 9.40\n"
     ]
    }
   ],
   "source": [
    "\n",
    "task_loader_train = TaskLoader(\n",
    "    context=[Initial_sensor_locations, land_mask_ds, lowres_aux_ds],\n",
    "    target=era5_ds,\n",
    ")\n",
    "task_loader_train.load_dask()\n",
    "print(task_loader_train)\n",
    "\n",
    "print()\n",
    "\n",
    "task_loader_val = TaskLoader(\n",
    "    context=[Initial_sensor_locations, land_mask_ds, lowres_aux_ds],\n",
    "    target=era5_ds,\n",
    ")\n",
    "task_loader_val.load_dask()\n",
    "print(task_loader_val)\n",
    "\n",
    "\n",
    "# set up model \n",
    "model = ConvNP(data_processor, task_loader_train, unet_channels = (32,32,32,32))\n",
    "\n",
    "# initializing train dates\n",
    "train_dates = pd.date_range(train_range[0],train_range[1])[::2]\n",
    "train_tasks = gen_tasks(train_dates,task_loader_train)\n",
    "\n",
    "# initialzing val dates\n",
    "# val_dates = pd.date_range(val_range[0], val_range[1])\n",
    "val_dates = [pd.to_datetime(val_range[0])]\n",
    "val_tasks = gen_tasks(val_dates,task_loader_val)\n",
    "\n",
    "initial_rmse = compute_val_rmse(model,val_tasks)\n",
    "initial_std = compute_std(model,val_tasks)\n",
    "\n",
    "print(initial_rmse)\n",
    "print(initial_std)\n",
    "\n",
    "lat_long_pairs_current = lat_long_pairs.copy()\n",
    "current_sensor_locations = Initial_sensor_locations.copy()\n",
    "\n",
    "train_model(model,train_tasks,val_tasks)\n",
    "\n",
    "greedy_alg = GreedyAlgorithm(\n",
    "    model=model,\n",
    "    X_t=era5_raw_ds,\n",
    "    X_s=era5_raw_ds.coarsen(lat=15, lon=15, boundary=\"trim\").mean(),  # Coarsen search points to speed up computation\n",
    "    X_s_mask=land_mask_raw_ds,  # Mask out ocean from search points\n",
    "    X_t_mask=land_mask_raw_ds,  # Mask out ocean from target points\n",
    "    N_new_context=1,\n",
    "    progress_bar=True,\n",
    ")"
   ]
  },
  {
   "cell_type": "code",
   "execution_count": 18,
   "metadata": {},
   "outputs": [
    {
     "data": {
      "application/vnd.jupyter.widget-view+json": {
       "model_id": "08bdae14e1964630a0b446948d332c8d",
       "version_major": 2,
       "version_minor": 0
      },
      "text/plain": [
       "  0%|          | 0/5 [00:00<?, ?it/s]"
      ]
     },
     "metadata": {},
     "output_type": "display_data"
    },
    {
     "name": "stderr",
     "output_type": "stream",
     "text": [
      "100%|██████████| 193/193 [01:33<00:00,  2.07it/s]\n"
     ]
    },
    {
     "name": "stdout",
     "output_type": "stream",
     "text": [
      "dim_yc inferred from TaskLoader: (1, 1, 3)\n",
      "dim_yt inferred from TaskLoader: 1\n",
      "dim_aux_t inferred from TaskLoader: 0\n",
      "internal_density inferred from TaskLoader: 400\n",
      "encoder_scales inferred from TaskLoader: [0.00125, np.float32(0.00125), np.float32(0.0041666664)]\n",
      "decoder_scale inferred from TaskLoader: 0.0025\n"
     ]
    },
    {
     "data": {
      "application/vnd.jupyter.widget-view+json": {
       "model_id": "68b0a4cf59b84576883204d50689a728",
       "version_major": 2,
       "version_minor": 0
      },
      "text/plain": [
       "  0%|          | 0/183 [00:00<?, ?it/s]"
      ]
     },
     "metadata": {},
     "output_type": "display_data"
    },
    {
     "data": {
      "application/vnd.jupyter.widget-view+json": {
       "model_id": "08743bd856414337a1abb7dd6942c438",
       "version_major": 2,
       "version_minor": 0
      },
      "text/plain": [
       "  0%|          | 0/5 [00:00<?, ?it/s]"
      ]
     },
     "metadata": {},
     "output_type": "display_data"
    },
    {
     "name": "stderr",
     "output_type": "stream",
     "text": [
      "100%|██████████| 193/193 [01:39<00:00,  1.93it/s]\n"
     ]
    },
    {
     "name": "stdout",
     "output_type": "stream",
     "text": [
      "dim_yc inferred from TaskLoader: (1, 1, 3)\n",
      "dim_yt inferred from TaskLoader: 1\n",
      "dim_aux_t inferred from TaskLoader: 0\n",
      "internal_density inferred from TaskLoader: 400\n",
      "encoder_scales inferred from TaskLoader: [0.00125, np.float32(0.00125), np.float32(0.0041666664)]\n",
      "decoder_scale inferred from TaskLoader: 0.0025\n"
     ]
    },
    {
     "data": {
      "application/vnd.jupyter.widget-view+json": {
       "model_id": "4b9564a3f6ad4ead817176408c1dd6fa",
       "version_major": 2,
       "version_minor": 0
      },
      "text/plain": [
       "  0%|          | 0/183 [00:00<?, ?it/s]"
      ]
     },
     "metadata": {},
     "output_type": "display_data"
    },
    {
     "data": {
      "application/vnd.jupyter.widget-view+json": {
       "model_id": "736c17fd6dae4f4791a73d9fca3c8ae1",
       "version_major": 2,
       "version_minor": 0
      },
      "text/plain": [
       "  0%|          | 0/5 [00:00<?, ?it/s]"
      ]
     },
     "metadata": {},
     "output_type": "display_data"
    },
    {
     "name": "stderr",
     "output_type": "stream",
     "text": [
      "100%|██████████| 193/193 [01:36<00:00,  2.00it/s]\n"
     ]
    },
    {
     "name": "stdout",
     "output_type": "stream",
     "text": [
      "dim_yc inferred from TaskLoader: (1, 1, 3)\n",
      "dim_yt inferred from TaskLoader: 1\n",
      "dim_aux_t inferred from TaskLoader: 0\n",
      "internal_density inferred from TaskLoader: 400\n",
      "encoder_scales inferred from TaskLoader: [0.00125, np.float32(0.00125), np.float32(0.0041666664)]\n",
      "decoder_scale inferred from TaskLoader: 0.0025\n"
     ]
    },
    {
     "data": {
      "application/vnd.jupyter.widget-view+json": {
       "model_id": "b587753e3ab642c39658f390b3b9b771",
       "version_major": 2,
       "version_minor": 0
      },
      "text/plain": [
       "  0%|          | 0/183 [00:00<?, ?it/s]"
      ]
     },
     "metadata": {},
     "output_type": "display_data"
    },
    {
     "data": {
      "application/vnd.jupyter.widget-view+json": {
       "model_id": "af7d45a76d094db28348eecace078401",
       "version_major": 2,
       "version_minor": 0
      },
      "text/plain": [
       "  0%|          | 0/5 [00:00<?, ?it/s]"
      ]
     },
     "metadata": {},
     "output_type": "display_data"
    },
    {
     "name": "stderr",
     "output_type": "stream",
     "text": [
      "100%|██████████| 193/193 [01:39<00:00,  1.94it/s]\n"
     ]
    },
    {
     "name": "stdout",
     "output_type": "stream",
     "text": [
      "dim_yc inferred from TaskLoader: (1, 1, 3)\n",
      "dim_yt inferred from TaskLoader: 1\n",
      "dim_aux_t inferred from TaskLoader: 0\n",
      "internal_density inferred from TaskLoader: 400\n",
      "encoder_scales inferred from TaskLoader: [0.00125, np.float32(0.00125), np.float32(0.0041666664)]\n",
      "decoder_scale inferred from TaskLoader: 0.0025\n"
     ]
    },
    {
     "data": {
      "application/vnd.jupyter.widget-view+json": {
       "model_id": "e8880cbf0eb14d3399f395540f749fba",
       "version_major": 2,
       "version_minor": 0
      },
      "text/plain": [
       "  0%|          | 0/183 [00:00<?, ?it/s]"
      ]
     },
     "metadata": {},
     "output_type": "display_data"
    },
    {
     "data": {
      "application/vnd.jupyter.widget-view+json": {
       "model_id": "b520a32ea14e4934a040b8235a3fd7f0",
       "version_major": 2,
       "version_minor": 0
      },
      "text/plain": [
       "  0%|          | 0/5 [00:00<?, ?it/s]"
      ]
     },
     "metadata": {},
     "output_type": "display_data"
    },
    {
     "name": "stderr",
     "output_type": "stream",
     "text": [
      "100%|██████████| 193/193 [01:39<00:00,  1.93it/s]\n"
     ]
    },
    {
     "name": "stdout",
     "output_type": "stream",
     "text": [
      "dim_yc inferred from TaskLoader: (1, 1, 3)\n",
      "dim_yt inferred from TaskLoader: 1\n",
      "dim_aux_t inferred from TaskLoader: 0\n",
      "internal_density inferred from TaskLoader: 400\n",
      "encoder_scales inferred from TaskLoader: [0.00125, np.float32(0.00125), np.float32(0.0041666664)]\n",
      "decoder_scale inferred from TaskLoader: 0.0025\n"
     ]
    },
    {
     "data": {
      "application/vnd.jupyter.widget-view+json": {
       "model_id": "9e65d75f494d424cb9f39c46a4f366ac",
       "version_major": 2,
       "version_minor": 0
      },
      "text/plain": [
       "  0%|          | 0/183 [00:00<?, ?it/s]"
      ]
     },
     "metadata": {},
     "output_type": "display_data"
    },
    {
     "data": {
      "application/vnd.jupyter.widget-view+json": {
       "model_id": "141ecbf5b97747eaa8ac8616051304fd",
       "version_major": 2,
       "version_minor": 0
      },
      "text/plain": [
       "  0%|          | 0/5 [00:00<?, ?it/s]"
      ]
     },
     "metadata": {},
     "output_type": "display_data"
    }
   ],
   "source": [
    "vars = []\n",
    "max_points_to_pick = 5\n",
    "lat_long_pairs_current = lat_long_pairs.copy()\n",
    "\n",
    "# initial_rmse = compute_val_rmse(model,val_tasks)\n",
    "# initial_std = compute_std(model,val_tasks)\n",
    "\n",
    "MeanStddev_rmse = [initial_rmse]\n",
    "MeanStddev_std = [initial_rmse]\n",
    "\n",
    "for iter in tqdm_notebook(range(max_points_to_pick)):\n",
    "\n",
    "    acquisition_fn = MeanStddev(model)\n",
    "\n",
    "    X_new_df, acquisition_fn_ds = greedy_alg(acquisition_fn, val_tasks, diff= True)\n",
    "\n",
    "    x1,x2 = X_new_df.to_numpy()[0]\n",
    "    x1 = (x1-15)/100\n",
    "    x2 = (x2+160)/100\n",
    "    X_new_df  = pd.DataFrame([[x1,x2],],columns=['lat','lon'])\n",
    "\n",
    "    lat_long_pairs_current = pd.DataFrame(np.concat([lat_long_pairs_current,X_new_df.to_numpy()]),columns=['x1','x2'])\n",
    "    current_sensor_locations = pd.merge(era5_ds_df.reset_index(),lat_long_pairs_current, on =['x1','x2'],how='inner').set_index(['time','x1','x2'])\n",
    "\n",
    "    model = ConvNP(data_processor, task_loader_train, unet_channels = (32,32,32,32))\n",
    "    task_loader_current = TaskLoader(\n",
    "    context=[current_sensor_locations, land_mask_ds, lowres_aux_ds],\n",
    "    target=era5_ds,\n",
    "        )\n",
    "    task_loader_current.load_dask()\n",
    "    train_tasks = gen_tasks(train_dates,task_loader_current)\n",
    "    train_model(model,train_tasks)\n",
    "\n",
    "    rmse = compute_val_rmse(model,val_tasks)\n",
    "    std = compute_std(model,val_tasks)\n",
    "\n",
    "    MeanStddev_rmse.append(rmse)\n",
    "    MeanStddev_std.append(std)\n"
   ]
  },
  {
   "cell_type": "code",
   "execution_count": 20,
   "metadata": {},
   "outputs": [
    {
     "data": {
      "image/png": "[encoded data removed]",
      "text/plain": [
       "<Figure size 1000x500 with 2 Axes>"
      ]
     },
     "metadata": {},
     "output_type": "display_data"
    }
   ],
   "source": [
    "plt.figure(figsize=(10,5),dpi=100)\n",
    "plt.subplot(1,2,1)\n",
    "plt.plot(MeanStddev_rmse)\n",
    "plt.ylabel(\"RMSE\")\n",
    "plt.xlabel(\"Iterations\")\n",
    "plt.title(\"RMSE curve per iteration MeanStddev\")\n",
    "\n",
    "plt.subplot(1,2,2)\n",
    "plt.plot(MeanStddev_std)\n",
    "plt.ylabel(\"Std dev\")\n",
    "plt.xlabel(\"Iterations\")\n",
    "plt.title(\"Std Dev curve per iteration MeanStddev\")\n",
    "\n",
    "plt.show()"
   ]
  },
  {
   "cell_type": "markdown",
   "metadata": {},
   "source": [
    "### pNorm StdDev"
   ]
  },
  {
   "cell_type": "code",
   "execution_count": 21,
   "metadata": {},
   "outputs": [],
   "source": [
    "from deepsensor.active_learning.acquisition_fns import pNormStddev"
   ]
  },
  {
   "cell_type": "code",
   "execution_count": 22,
   "metadata": {},
   "outputs": [
    {
     "name": "stdout",
     "output_type": "stream",
     "text": [
      "TaskLoader(3 context sets, 1 target sets)\n",
      "Context variable IDs: (('2m_temperature',), ('GLDAS_mask',), ('elevation', 'cos_D', 'sin_D'))\n",
      "Target variable IDs: (('2m_temperature',),)\n",
      "\n",
      "TaskLoader(3 context sets, 1 target sets)\n",
      "Context variable IDs: (('2m_temperature',), ('GLDAS_mask',), ('elevation', 'cos_D', 'sin_D'))\n",
      "Target variable IDs: (('2m_temperature',),)\n",
      "dim_yc inferred from TaskLoader: (1, 1, 3)\n",
      "dim_yt inferred from TaskLoader: 1\n",
      "dim_aux_t inferred from TaskLoader: 0\n",
      "internal_density inferred from TaskLoader: 400\n",
      "encoder_scales inferred from TaskLoader: [0.00125, np.float32(0.00125), np.float32(0.0041666664)]\n",
      "decoder_scale inferred from TaskLoader: 0.0025\n"
     ]
    },
    {
     "data": {
      "application/vnd.jupyter.widget-view+json": {
       "model_id": "0c17c9b766b241048aa5830d167cd07a",
       "version_major": 2,
       "version_minor": 0
      },
      "text/plain": [
       "  0%|          | 0/183 [00:00<?, ?it/s]"
      ]
     },
     "metadata": {},
     "output_type": "display_data"
    },
    {
     "data": {
      "application/vnd.jupyter.widget-view+json": {
       "model_id": "f4931bfcb83046baa9f23d62b64d4da4",
       "version_major": 2,
       "version_minor": 0
      },
      "text/plain": [
       "  0%|          | 0/1 [00:00<?, ?it/s]"
      ]
     },
     "metadata": {},
     "output_type": "display_data"
    },
    {
     "name": "stdout",
     "output_type": "stream",
     "text": [
      "37.401207\n",
      "42.68148\n"
     ]
    },
    {
     "data": {
      "application/vnd.jupyter.widget-view+json": {
       "model_id": "e3e72b71861e4c9a803c967d595d4893",
       "version_major": 2,
       "version_minor": 0
      },
      "text/plain": [
       "  0%|          | 0/5 [00:00<?, ?it/s]"
      ]
     },
     "metadata": {},
     "output_type": "display_data"
    },
    {
     "name": "stdout",
     "output_type": "stream",
     "text": [
      "Epoch 1 | Error 12.37 | std 12.17\n",
      "Epoch 2 | Error 10.06 | std 9.74\n",
      "Epoch 3 | Error 8.90 | std 8.86\n",
      "Epoch 4 | Error 8.51 | std 7.60\n",
      "Epoch 5 | Error 7.98 | std 8.09\n"
     ]
    }
   ],
   "source": [
    "\n",
    "task_loader_train = TaskLoader(\n",
    "    context=[Initial_sensor_locations, land_mask_ds, lowres_aux_ds],\n",
    "    target=era5_ds,\n",
    ")\n",
    "task_loader_train.load_dask()\n",
    "print(task_loader_train)\n",
    "\n",
    "print()\n",
    "\n",
    "task_loader_val = TaskLoader(\n",
    "    context=[Initial_sensor_locations, land_mask_ds, lowres_aux_ds],\n",
    "    target=era5_ds,\n",
    ")\n",
    "task_loader_val.load_dask()\n",
    "print(task_loader_val)\n",
    "\n",
    "\n",
    "# set up model \n",
    "model = ConvNP(data_processor, task_loader_train, unet_channels = (32,32,32,32))\n",
    "\n",
    "# initializing train dates\n",
    "train_dates = pd.date_range(train_range[0],train_range[1])[::2]\n",
    "train_tasks = gen_tasks(train_dates,task_loader_train)\n",
    "\n",
    "# initialzing val dates\n",
    "# val_dates = pd.date_range(val_range[0], val_range[1])\n",
    "val_dates = [pd.to_datetime(val_range[0])]\n",
    "val_tasks = gen_tasks(val_dates,task_loader_val)\n",
    "\n",
    "initial_rmse = compute_val_rmse(model,val_tasks)\n",
    "initial_std = compute_std(model,val_tasks)\n",
    "\n",
    "print(initial_rmse)\n",
    "print(initial_std)\n",
    "\n",
    "lat_long_pairs_current = lat_long_pairs.copy()\n",
    "current_sensor_locations = Initial_sensor_locations.copy()\n",
    "\n",
    "train_model(model,train_tasks,val_tasks)\n",
    "\n",
    "greedy_alg = GreedyAlgorithm(\n",
    "    model=model,\n",
    "    X_t=era5_raw_ds,\n",
    "    X_s=era5_raw_ds.coarsen(lat=15, lon=15, boundary=\"trim\").mean(),  # Coarsen search points to speed up computation\n",
    "    X_s_mask=land_mask_raw_ds,  # Mask out ocean from search points\n",
    "    X_t_mask=land_mask_raw_ds,  # Mask out ocean from target points\n",
    "    N_new_context=1,\n",
    "    progress_bar=True,\n",
    ")"
   ]
  },
  {
   "cell_type": "code",
   "execution_count": 23,
   "metadata": {},
   "outputs": [
    {
     "data": {
      "application/vnd.jupyter.widget-view+json": {
       "model_id": "051c1d27462a481d986e24e21b4d3015",
       "version_major": 2,
       "version_minor": 0
      },
      "text/plain": [
       "  0%|          | 0/5 [00:00<?, ?it/s]"
      ]
     },
     "metadata": {},
     "output_type": "display_data"
    },
    {
     "name": "stderr",
     "output_type": "stream",
     "text": [
      "100%|██████████| 193/193 [01:31<00:00,  2.11it/s]\n"
     ]
    },
    {
     "name": "stdout",
     "output_type": "stream",
     "text": [
      "dim_yc inferred from TaskLoader: (1, 1, 3)\n",
      "dim_yt inferred from TaskLoader: 1\n",
      "dim_aux_t inferred from TaskLoader: 0\n",
      "internal_density inferred from TaskLoader: 400\n",
      "encoder_scales inferred from TaskLoader: [0.00125, np.float32(0.00125), np.float32(0.0041666664)]\n",
      "decoder_scale inferred from TaskLoader: 0.0025\n"
     ]
    },
    {
     "data": {
      "application/vnd.jupyter.widget-view+json": {
       "model_id": "755fcbe6c3324f0e97c246e22bca37bb",
       "version_major": 2,
       "version_minor": 0
      },
      "text/plain": [
       "  0%|          | 0/183 [00:00<?, ?it/s]"
      ]
     },
     "metadata": {},
     "output_type": "display_data"
    },
    {
     "data": {
      "application/vnd.jupyter.widget-view+json": {
       "model_id": "1179ce8b8d2c43dcab22d95fe5a629c9",
       "version_major": 2,
       "version_minor": 0
      },
      "text/plain": [
       "  0%|          | 0/5 [00:00<?, ?it/s]"
      ]
     },
     "metadata": {},
     "output_type": "display_data"
    },
    {
     "name": "stderr",
     "output_type": "stream",
     "text": [
      "100%|██████████| 193/193 [01:38<00:00,  1.96it/s]\n"
     ]
    },
    {
     "name": "stdout",
     "output_type": "stream",
     "text": [
      "dim_yc inferred from TaskLoader: (1, 1, 3)\n",
      "dim_yt inferred from TaskLoader: 1\n",
      "dim_aux_t inferred from TaskLoader: 0\n",
      "internal_density inferred from TaskLoader: 400\n",
      "encoder_scales inferred from TaskLoader: [0.00125, np.float32(0.00125), np.float32(0.0041666664)]\n",
      "decoder_scale inferred from TaskLoader: 0.0025\n"
     ]
    },
    {
     "data": {
      "application/vnd.jupyter.widget-view+json": {
       "model_id": "334d113597b3473b8b122bc2e98e21b0",
       "version_major": 2,
       "version_minor": 0
      },
      "text/plain": [
       "  0%|          | 0/183 [00:00<?, ?it/s]"
      ]
     },
     "metadata": {},
     "output_type": "display_data"
    },
    {
     "data": {
      "application/vnd.jupyter.widget-view+json": {
       "model_id": "ea891cb7600445ae9041ffa9959920f7",
       "version_major": 2,
       "version_minor": 0
      },
      "text/plain": [
       "  0%|          | 0/5 [00:00<?, ?it/s]"
      ]
     },
     "metadata": {},
     "output_type": "display_data"
    },
    {
     "name": "stderr",
     "output_type": "stream",
     "text": [
      "100%|██████████| 193/193 [01:39<00:00,  1.93it/s]\n"
     ]
    },
    {
     "name": "stdout",
     "output_type": "stream",
     "text": [
      "dim_yc inferred from TaskLoader: (1, 1, 3)\n",
      "dim_yt inferred from TaskLoader: 1\n",
      "dim_aux_t inferred from TaskLoader: 0\n",
      "internal_density inferred from TaskLoader: 400\n",
      "encoder_scales inferred from TaskLoader: [0.00125, np.float32(0.00125), np.float32(0.0041666664)]\n",
      "decoder_scale inferred from TaskLoader: 0.0025\n"
     ]
    },
    {
     "data": {
      "application/vnd.jupyter.widget-view+json": {
       "model_id": "e2f7077e4691445ba31b38cd7da1063d",
       "version_major": 2,
       "version_minor": 0
      },
      "text/plain": [
       "  0%|          | 0/183 [00:00<?, ?it/s]"
      ]
     },
     "metadata": {},
     "output_type": "display_data"
    },
    {
     "data": {
      "application/vnd.jupyter.widget-view+json": {
       "model_id": "c040168716be451e9be7486fe81b88f5",
       "version_major": 2,
       "version_minor": 0
      },
      "text/plain": [
       "  0%|          | 0/5 [00:00<?, ?it/s]"
      ]
     },
     "metadata": {},
     "output_type": "display_data"
    },
    {
     "name": "stderr",
     "output_type": "stream",
     "text": [
      "100%|██████████| 193/193 [01:39<00:00,  1.93it/s]\n"
     ]
    },
    {
     "name": "stdout",
     "output_type": "stream",
     "text": [
      "dim_yc inferred from TaskLoader: (1, 1, 3)\n",
      "dim_yt inferred from TaskLoader: 1\n",
      "dim_aux_t inferred from TaskLoader: 0\n",
      "internal_density inferred from TaskLoader: 400\n",
      "encoder_scales inferred from TaskLoader: [0.00125, np.float32(0.00125), np.float32(0.0041666664)]\n",
      "decoder_scale inferred from TaskLoader: 0.0025\n"
     ]
    },
    {
     "data": {
      "application/vnd.jupyter.widget-view+json": {
       "model_id": "fa0c686818334d9a9742a230be283340",
       "version_major": 2,
       "version_minor": 0
      },
      "text/plain": [
       "  0%|          | 0/183 [00:00<?, ?it/s]"
      ]
     },
     "metadata": {},
     "output_type": "display_data"
    },
    {
     "data": {
      "application/vnd.jupyter.widget-view+json": {
       "model_id": "99f09da232574924878be67a3dc4ba57",
       "version_major": 2,
       "version_minor": 0
      },
      "text/plain": [
       "  0%|          | 0/5 [00:00<?, ?it/s]"
      ]
     },
     "metadata": {},
     "output_type": "display_data"
    },
    {
     "name": "stderr",
     "output_type": "stream",
     "text": [
      "100%|██████████| 193/193 [01:38<00:00,  1.96it/s]\n"
     ]
    },
    {
     "name": "stdout",
     "output_type": "stream",
     "text": [
      "dim_yc inferred from TaskLoader: (1, 1, 3)\n",
      "dim_yt inferred from TaskLoader: 1\n",
      "dim_aux_t inferred from TaskLoader: 0\n",
      "internal_density inferred from TaskLoader: 400\n",
      "encoder_scales inferred from TaskLoader: [0.00125, np.float32(0.00125), np.float32(0.0041666664)]\n",
      "decoder_scale inferred from TaskLoader: 0.0025\n"
     ]
    },
    {
     "data": {
      "application/vnd.jupyter.widget-view+json": {
       "model_id": "c9fa0e62e9b34941b80e7f218e47e2f8",
       "version_major": 2,
       "version_minor": 0
      },
      "text/plain": [
       "  0%|          | 0/183 [00:00<?, ?it/s]"
      ]
     },
     "metadata": {},
     "output_type": "display_data"
    },
    {
     "data": {
      "application/vnd.jupyter.widget-view+json": {
       "model_id": "6a47cbadd81341dabe4942f426c5e2d4",
       "version_major": 2,
       "version_minor": 0
      },
      "text/plain": [
       "  0%|          | 0/5 [00:00<?, ?it/s]"
      ]
     },
     "metadata": {},
     "output_type": "display_data"
    }
   ],
   "source": [
    "vars = []\n",
    "max_points_to_pick = 5\n",
    "lat_long_pairs_current = lat_long_pairs.copy()\n",
    "\n",
    "# initial_rmse = compute_val_rmse(model,val_tasks)\n",
    "# initial_std = compute_std(model,val_tasks)\n",
    "\n",
    "pNormStddev_rmse = [initial_rmse]\n",
    "pNormStddev_std = [initial_rmse]\n",
    "\n",
    "for iter in tqdm_notebook(range(max_points_to_pick)):\n",
    "\n",
    "    acquisition_fn = pNormStddev(model)\n",
    "\n",
    "    X_new_df, acquisition_fn_ds = greedy_alg(acquisition_fn, val_tasks, diff= True)\n",
    "\n",
    "    x1,x2 = X_new_df.to_numpy()[0]\n",
    "    x1 = (x1-15)/100\n",
    "    x2 = (x2+160)/100\n",
    "    X_new_df  = pd.DataFrame([[x1,x2],],columns=['lat','lon'])\n",
    "\n",
    "    lat_long_pairs_current = pd.DataFrame(np.concat([lat_long_pairs_current,X_new_df.to_numpy()]),columns=['x1','x2'])\n",
    "    current_sensor_locations = pd.merge(era5_ds_df.reset_index(),lat_long_pairs_current, on =['x1','x2'],how='inner').set_index(['time','x1','x2'])\n",
    "\n",
    "    model = ConvNP(data_processor, task_loader_train, unet_channels = (32,32,32,32))\n",
    "    task_loader_current = TaskLoader(\n",
    "    context=[current_sensor_locations, land_mask_ds, lowres_aux_ds],\n",
    "    target=era5_ds,\n",
    "        )\n",
    "    task_loader_current.load_dask()\n",
    "    train_tasks = gen_tasks(train_dates,task_loader_current)\n",
    "    train_model(model,train_tasks)\n",
    "\n",
    "    rmse = compute_val_rmse(model,val_tasks)\n",
    "    std = compute_std(model,val_tasks)\n",
    "\n",
    "    pNormStddev_rmse.append(rmse)\n",
    "    pNormStddev_std.append(std)\n"
   ]
  },
  {
   "cell_type": "code",
   "execution_count": 24,
   "metadata": {},
   "outputs": [
    {
     "data": {
      "image/png": "[encoded data removed]",
      "text/plain": [
       "<Figure size 1000x500 with 2 Axes>"
      ]
     },
     "metadata": {},
     "output_type": "display_data"
    }
   ],
   "source": [
    "plt.figure(figsize=(10,5),dpi=100)\n",
    "plt.subplot(1,2,1)\n",
    "plt.plot(MeanStddev_rmse, label=\"MeanStddev\")\n",
    "plt.plot(pNormStddev_rmse,label = \"pNormStddev\")\n",
    "plt.ylabel(\"RMSE\")\n",
    "plt.xlabel(\"Iterations\")\n",
    "plt.title(\"RMSE curve per iteration MeanStddev\")\n",
    "\n",
    "plt.subplot(1,2,2)\n",
    "plt.plot(MeanStddev_std)\n",
    "plt.plot(pNormStddev_std)\n",
    "plt.ylabel(\"Std dev\")\n",
    "plt.xlabel(\"Iterations\")\n",
    "plt.title(\"Std Dev curve per iteration MeanStddev\")\n",
    "plt.legend()\n",
    "\n",
    "plt.show()"
   ]
  },
  {
   "cell_type": "markdown",
   "metadata": {},
   "source": [
    "### 3. OracleMAE"
   ]
  },
  {
   "cell_type": "code",
   "execution_count": 25,
   "metadata": {},
   "outputs": [],
   "source": [
    "from deepsensor.active_learning.acquisition_fns import OracleMAE"
   ]
  },
  {
   "cell_type": "code",
   "execution_count": null,
   "metadata": {},
   "outputs": [
    {
     "name": "stdout",
     "output_type": "stream",
     "text": [
      "TaskLoader(3 context sets, 1 target sets)\n",
      "Context variable IDs: (('2m_temperature',), ('GLDAS_mask',), ('elevation', 'cos_D', 'sin_D'))\n",
      "Target variable IDs: (('2m_temperature',),)\n",
      "\n",
      "TaskLoader(3 context sets, 1 target sets)\n",
      "Context variable IDs: (('2m_temperature',), ('GLDAS_mask',), ('elevation', 'cos_D', 'sin_D'))\n",
      "Target variable IDs: (('2m_temperature',),)\n",
      "dim_yc inferred from TaskLoader: (1, 1, 3)\n",
      "dim_yt inferred from TaskLoader: 1\n",
      "dim_aux_t inferred from TaskLoader: 0\n",
      "internal_density inferred from TaskLoader: 400\n",
      "encoder_scales inferred from TaskLoader: [0.00125, np.float32(0.00125), np.float32(0.0041666664)]\n",
      "decoder_scale inferred from TaskLoader: 0.0025\n"
     ]
    },
    {
     "data": {
      "application/vnd.jupyter.widget-view+json": {
       "model_id": "80042d02aa894f4fa9b631bb85295ed6",
       "version_major": 2,
       "version_minor": 0
      },
      "text/plain": [
       "  0%|          | 0/183 [00:00<?, ?it/s]"
      ]
     },
     "metadata": {},
     "output_type": "display_data"
    },
    {
     "data": {
      "application/vnd.jupyter.widget-view+json": {
       "model_id": "8b367e94793b4901ba46589c1c6a9844",
       "version_major": 2,
       "version_minor": 0
      },
      "text/plain": [
       "  0%|          | 0/1 [00:00<?, ?it/s]"
      ]
     },
     "metadata": {},
     "output_type": "display_data"
    },
    {
     "name": "stdout",
     "output_type": "stream",
     "text": [
      "45.016403\n",
      "56.52115\n"
     ]
    },
    {
     "data": {
      "application/vnd.jupyter.widget-view+json": {
       "model_id": "e6e7253c2dda46749a3ef8d90967802f",
       "version_major": 2,
       "version_minor": 0
      },
      "text/plain": [
       "  0%|          | 0/5 [00:00<?, ?it/s]"
      ]
     },
     "metadata": {},
     "output_type": "display_data"
    },
    {
     "name": "stdout",
     "output_type": "stream",
     "text": [
      "Epoch 1 | Error 13.29 | std 13.35\n",
      "Epoch 2 | Error 11.19 | std 10.43\n",
      "Epoch 3 | Error 9.66 | std 8.21\n",
      "Epoch 4 | Error 8.83 | std 8.01\n",
      "Epoch 5 | Error 9.18 | std 8.11\n"
     ]
    }
   ],
   "source": [
    "\n",
    "task_loader_train = TaskLoader(\n",
    "    context=[Initial_sensor_locations, land_mask_ds, lowres_aux_ds],\n",
    "    target=era5_ds,\n",
    ")\n",
    "task_loader_train.load_dask()\n",
    "print(task_loader_train)\n",
    "\n",
    "print()\n",
    "\n",
    "task_loader_val = TaskLoader(\n",
    "    context=[Initial_sensor_locations, land_mask_ds, lowres_aux_ds],\n",
    "    target=era5_ds,\n",
    ")\n",
    "task_loader_val.load_dask()\n",
    "print(task_loader_val)\n",
    "\n",
    "\n",
    "# set up model \n",
    "model = ConvNP(data_processor, task_loader_train, unet_channels = (32,32,32,32))\n",
    "\n",
    "# initializing train dates\n",
    "train_dates = pd.date_range(train_range[0],train_range[1])[::2]\n",
    "train_tasks = gen_tasks(train_dates,task_loader_train)\n",
    "\n",
    "# initialzing val dates\n",
    "# val_dates = pd.date_range(val_range[0], val_range[1])\n",
    "val_dates = [pd.to_datetime(val_range[0])]\n",
    "val_tasks = gen_tasks(val_dates,task_loader_val)\n",
    "\n",
    "initial_rmse = compute_val_rmse(model,val_tasks)\n",
    "initial_std = compute_std(model,val_tasks)\n",
    "\n",
    "print(initial_rmse)\n",
    "print(initial_std)\n",
    "\n",
    "lat_long_pairs_current = lat_long_pairs.copy()\n",
    "current_sensor_locations = Initial_sensor_locations.copy()\n",
    "\n",
    "train_model(model,train_tasks,val_tasks)\n",
    "\n",
    "greedy_alg = GreedyAlgorithm(\n",
    "    model=model,\n",
    "    X_t=era5_raw_ds,\n",
    "    X_s=era5_raw_ds.coarsen(lat=15, lon=15, boundary=\"trim\").mean(),  # Coarsen search points to speed up computation\n",
    "    X_s_mask=land_mask_raw_ds,  # Mask out ocean from search points\n",
    "    X_t_mask=land_mask_raw_ds,  # Mask out ocean from target points\n",
    "    N_new_context=1,\n",
    "    progress_bar=True,\n",
    "    task_loader=task_loader_train,\n",
    ")"
   ]
  },
  {
   "cell_type": "code",
   "execution_count": 29,
   "metadata": {},
   "outputs": [
    {
     "data": {
      "application/vnd.jupyter.widget-view+json": {
       "model_id": "a538dee97ac94da5867d2deb8b1d94fa",
       "version_major": 2,
       "version_minor": 0
      },
      "text/plain": [
       "  0%|          | 0/5 [00:00<?, ?it/s]"
      ]
     },
     "metadata": {},
     "output_type": "display_data"
    },
    {
     "name": "stderr",
     "output_type": "stream",
     "text": [
      "100%|██████████| 193/193 [01:32<00:00,  2.08it/s]\n"
     ]
    },
    {
     "name": "stdout",
     "output_type": "stream",
     "text": [
      "dim_yc inferred from TaskLoader: (1, 1, 3)\n",
      "dim_yt inferred from TaskLoader: 1\n",
      "dim_aux_t inferred from TaskLoader: 0\n",
      "internal_density inferred from TaskLoader: 400\n",
      "encoder_scales inferred from TaskLoader: [0.00125, np.float32(0.00125), np.float32(0.0041666664)]\n",
      "decoder_scale inferred from TaskLoader: 0.0025\n"
     ]
    },
    {
     "data": {
      "application/vnd.jupyter.widget-view+json": {
       "model_id": "5563b92f47f84c90a0a232f5864a3b1f",
       "version_major": 2,
       "version_minor": 0
      },
      "text/plain": [
       "  0%|          | 0/183 [00:00<?, ?it/s]"
      ]
     },
     "metadata": {},
     "output_type": "display_data"
    },
    {
     "data": {
      "application/vnd.jupyter.widget-view+json": {
       "model_id": "922fc840579b460680d8d031e0f39b82",
       "version_major": 2,
       "version_minor": 0
      },
      "text/plain": [
       "  0%|          | 0/5 [00:00<?, ?it/s]"
      ]
     },
     "metadata": {},
     "output_type": "display_data"
    },
    {
     "name": "stderr",
     "output_type": "stream",
     "text": [
      "100%|██████████| 193/193 [01:37<00:00,  1.99it/s]\n"
     ]
    },
    {
     "name": "stdout",
     "output_type": "stream",
     "text": [
      "dim_yc inferred from TaskLoader: (1, 1, 3)\n",
      "dim_yt inferred from TaskLoader: 1\n",
      "dim_aux_t inferred from TaskLoader: 0\n",
      "internal_density inferred from TaskLoader: 400\n",
      "encoder_scales inferred from TaskLoader: [0.00125, np.float32(0.00125), np.float32(0.0041666664)]\n",
      "decoder_scale inferred from TaskLoader: 0.0025\n"
     ]
    },
    {
     "data": {
      "application/vnd.jupyter.widget-view+json": {
       "model_id": "dcabe52ce7524ebc90637bf1be0c2863",
       "version_major": 2,
       "version_minor": 0
      },
      "text/plain": [
       "  0%|          | 0/183 [00:00<?, ?it/s]"
      ]
     },
     "metadata": {},
     "output_type": "display_data"
    },
    {
     "data": {
      "application/vnd.jupyter.widget-view+json": {
       "model_id": "15a525286de9480c85153c27743548c6",
       "version_major": 2,
       "version_minor": 0
      },
      "text/plain": [
       "  0%|          | 0/5 [00:00<?, ?it/s]"
      ]
     },
     "metadata": {},
     "output_type": "display_data"
    },
    {
     "name": "stderr",
     "output_type": "stream",
     "text": [
      "100%|██████████| 193/193 [01:37<00:00,  1.97it/s]\n"
     ]
    },
    {
     "name": "stdout",
     "output_type": "stream",
     "text": [
      "dim_yc inferred from TaskLoader: (1, 1, 3)\n",
      "dim_yt inferred from TaskLoader: 1\n",
      "dim_aux_t inferred from TaskLoader: 0\n",
      "internal_density inferred from TaskLoader: 400\n",
      "encoder_scales inferred from TaskLoader: [0.00125, np.float32(0.00125), np.float32(0.0041666664)]\n",
      "decoder_scale inferred from TaskLoader: 0.0025\n"
     ]
    },
    {
     "data": {
      "application/vnd.jupyter.widget-view+json": {
       "model_id": "51f6d8b5d7064f9d8d5bce0bdf51e9d0",
       "version_major": 2,
       "version_minor": 0
      },
      "text/plain": [
       "  0%|          | 0/183 [00:00<?, ?it/s]"
      ]
     },
     "metadata": {},
     "output_type": "display_data"
    },
    {
     "data": {
      "application/vnd.jupyter.widget-view+json": {
       "model_id": "d3e7125d8ebc4261a966fa1879116eec",
       "version_major": 2,
       "version_minor": 0
      },
      "text/plain": [
       "  0%|          | 0/5 [00:00<?, ?it/s]"
      ]
     },
     "metadata": {},
     "output_type": "display_data"
    },
    {
     "name": "stderr",
     "output_type": "stream",
     "text": [
      "100%|██████████| 193/193 [01:38<00:00,  1.96it/s]\n"
     ]
    },
    {
     "name": "stdout",
     "output_type": "stream",
     "text": [
      "dim_yc inferred from TaskLoader: (1, 1, 3)\n",
      "dim_yt inferred from TaskLoader: 1\n",
      "dim_aux_t inferred from TaskLoader: 0\n",
      "internal_density inferred from TaskLoader: 400\n",
      "encoder_scales inferred from TaskLoader: [0.00125, np.float32(0.00125), np.float32(0.0041666664)]\n",
      "decoder_scale inferred from TaskLoader: 0.0025\n"
     ]
    },
    {
     "data": {
      "application/vnd.jupyter.widget-view+json": {
       "model_id": "2dcb91bebc8741e4b058ba90b8a023f2",
       "version_major": 2,
       "version_minor": 0
      },
      "text/plain": [
       "  0%|          | 0/183 [00:00<?, ?it/s]"
      ]
     },
     "metadata": {},
     "output_type": "display_data"
    },
    {
     "data": {
      "application/vnd.jupyter.widget-view+json": {
       "model_id": "8fa7ae80ea234e36bbc141db140a876b",
       "version_major": 2,
       "version_minor": 0
      },
      "text/plain": [
       "  0%|          | 0/5 [00:00<?, ?it/s]"
      ]
     },
     "metadata": {},
     "output_type": "display_data"
    },
    {
     "name": "stderr",
     "output_type": "stream",
     "text": [
      "100%|██████████| 193/193 [01:37<00:00,  1.99it/s]\n"
     ]
    },
    {
     "name": "stdout",
     "output_type": "stream",
     "text": [
      "dim_yc inferred from TaskLoader: (1, 1, 3)\n",
      "dim_yt inferred from TaskLoader: 1\n",
      "dim_aux_t inferred from TaskLoader: 0\n",
      "internal_density inferred from TaskLoader: 400\n",
      "encoder_scales inferred from TaskLoader: [0.00125, np.float32(0.00125), np.float32(0.0041666664)]\n",
      "decoder_scale inferred from TaskLoader: 0.0025\n"
     ]
    },
    {
     "data": {
      "application/vnd.jupyter.widget-view+json": {
       "model_id": "0c2f05e83c4b43748d45fbaada35d7a4",
       "version_major": 2,
       "version_minor": 0
      },
      "text/plain": [
       "  0%|          | 0/183 [00:00<?, ?it/s]"
      ]
     },
     "metadata": {},
     "output_type": "display_data"
    },
    {
     "data": {
      "application/vnd.jupyter.widget-view+json": {
       "model_id": "a1bba3db77324e1d810bda8352b203bc",
       "version_major": 2,
       "version_minor": 0
      },
      "text/plain": [
       "  0%|          | 0/5 [00:00<?, ?it/s]"
      ]
     },
     "metadata": {},
     "output_type": "display_data"
    }
   ],
   "source": [
    "vars = []\n",
    "max_points_to_pick = 5\n",
    "lat_long_pairs_current = lat_long_pairs.copy()\n",
    "\n",
    "# initial_rmse = compute_val_rmse(model,val_tasks)\n",
    "# initial_std = compute_std(model,val_tasks)\n",
    "\n",
    "OracleMAE_rmse = [initial_rmse]\n",
    "OracleMAE_std = [initial_rmse]\n",
    "\n",
    "for iter in tqdm_notebook(range(max_points_to_pick)):\n",
    "\n",
    "    acquisition_fn = OracleMAE(model)\n",
    "\n",
    "    X_new_df, acquisition_fn_ds = greedy_alg(acquisition_fn, val_tasks, diff= True)\n",
    "\n",
    "    x1,x2 = X_new_df.to_numpy()[0]\n",
    "    x1 = (x1-15)/100\n",
    "    x2 = (x2+160)/100\n",
    "    X_new_df  = pd.DataFrame([[x1,x2],],columns=['lat','lon'])\n",
    "\n",
    "    lat_long_pairs_current = pd.DataFrame(np.concat([lat_long_pairs_current,X_new_df.to_numpy()]),columns=['x1','x2'])\n",
    "    current_sensor_locations = pd.merge(era5_ds_df.reset_index(),lat_long_pairs_current, on =['x1','x2'],how='inner').set_index(['time','x1','x2'])\n",
    "\n",
    "    model = ConvNP(data_processor, task_loader_train, unet_channels = (32,32,32,32))\n",
    "    task_loader_current = TaskLoader(\n",
    "    context=[current_sensor_locations, land_mask_ds, lowres_aux_ds],\n",
    "    target=era5_ds,\n",
    "        )\n",
    "    task_loader_current.load_dask()\n",
    "    train_tasks = gen_tasks(train_dates,task_loader_current)\n",
    "    train_model(model,train_tasks)\n",
    "\n",
    "    rmse = compute_val_rmse(model,val_tasks)\n",
    "    std = compute_std(model,val_tasks)\n",
    "\n",
    "    OracleMAE_rmse.append(rmse)\n",
    "    OracleMAE_std.append(std)\n"
   ]
  },
  {
   "cell_type": "code",
   "execution_count": 32,
   "metadata": {},
   "outputs": [
    {
     "data": {
      "image/png": "[encoded data removed]",
      "text/plain": [
       "<Figure size 1000x500 with 2 Axes>"
      ]
     },
     "metadata": {},
     "output_type": "display_data"
    }
   ],
   "source": [
    "plt.figure(figsize=(10,5),dpi=100)\n",
    "plt.subplot(1,2,1)\n",
    "plt.plot(MeanStddev_rmse, label=\"MeanStddev\")\n",
    "plt.plot(pNormStddev_rmse,label = \"pNormStddev\")\n",
    "plt.plot(OracleMAE_rmse, label = \"OracleMAE\")\n",
    "plt.ylabel(\"RMSE\")\n",
    "plt.xlabel(\"Iterations\")\n",
    "plt.title(\"RMSE curve per iteration MeanStddev\")\n",
    "plt.legend()\n",
    "\n",
    "plt.subplot(1,2,2)\n",
    "plt.plot(MeanStddev_std, label=\"MeanStddev\")\n",
    "plt.plot(pNormStddev_std, label = \"pNormStddev\")\n",
    "plt.plot(OracleMAE_std, label = \"OracleMAE\")\n",
    "plt.ylabel(\"Std dev\")\n",
    "plt.xlabel(\"Iterations\")\n",
    "plt.title(\"Std Dev curve per iteration MeanStddev\")\n",
    "plt.legend()\n",
    "\n",
    "plt.show()"
   ]
  },
  {
   "cell_type": "markdown",
   "metadata": {},
   "source": [
    "### Random"
   ]
  },
  {
   "cell_type": "code",
   "execution_count": 33,
   "metadata": {},
   "outputs": [],
   "source": [
    "from deepsensor.active_learning.acquisition_fns import Random"
   ]
  },
  {
   "cell_type": "code",
   "execution_count": 34,
   "metadata": {},
   "outputs": [
    {
     "name": "stdout",
     "output_type": "stream",
     "text": [
      "TaskLoader(3 context sets, 1 target sets)\n",
      "Context variable IDs: (('2m_temperature',), ('GLDAS_mask',), ('elevation', 'cos_D', 'sin_D'))\n",
      "Target variable IDs: (('2m_temperature',),)\n",
      "\n",
      "TaskLoader(3 context sets, 1 target sets)\n",
      "Context variable IDs: (('2m_temperature',), ('GLDAS_mask',), ('elevation', 'cos_D', 'sin_D'))\n",
      "Target variable IDs: (('2m_temperature',),)\n",
      "dim_yc inferred from TaskLoader: (1, 1, 3)\n",
      "dim_yt inferred from TaskLoader: 1\n",
      "dim_aux_t inferred from TaskLoader: 0\n",
      "internal_density inferred from TaskLoader: 400\n",
      "encoder_scales inferred from TaskLoader: [0.00125, np.float32(0.00125), np.float32(0.0041666664)]\n",
      "decoder_scale inferred from TaskLoader: 0.0025\n"
     ]
    },
    {
     "data": {
      "application/vnd.jupyter.widget-view+json": {
       "model_id": "c878d9fa664f4a238c38acb67cfbd98b",
       "version_major": 2,
       "version_minor": 0
      },
      "text/plain": [
       "  0%|          | 0/183 [00:00<?, ?it/s]"
      ]
     },
     "metadata": {},
     "output_type": "display_data"
    },
    {
     "data": {
      "application/vnd.jupyter.widget-view+json": {
       "model_id": "41f235c1ccd14abfa65f00c61c59f997",
       "version_major": 2,
       "version_minor": 0
      },
      "text/plain": [
       "  0%|          | 0/1 [00:00<?, ?it/s]"
      ]
     },
     "metadata": {},
     "output_type": "display_data"
    },
    {
     "name": "stdout",
     "output_type": "stream",
     "text": [
      "53.94735\n",
      "16.102566\n"
     ]
    },
    {
     "data": {
      "application/vnd.jupyter.widget-view+json": {
       "model_id": "efcee94b5c3d419ab50ad8617f23ecaf",
       "version_major": 2,
       "version_minor": 0
      },
      "text/plain": [
       "  0%|          | 0/5 [00:00<?, ?it/s]"
      ]
     },
     "metadata": {},
     "output_type": "display_data"
    },
    {
     "name": "stdout",
     "output_type": "stream",
     "text": [
      "Epoch 1 | Error 13.57 | std 13.47\n",
      "Epoch 2 | Error 11.40 | std 11.01\n",
      "Epoch 3 | Error 9.68 | std 8.91\n",
      "Epoch 4 | Error 8.38 | std 7.62\n",
      "Epoch 5 | Error 8.96 | std 9.01\n"
     ]
    }
   ],
   "source": [
    "\n",
    "task_loader_train = TaskLoader(\n",
    "    context=[Initial_sensor_locations, land_mask_ds, lowres_aux_ds],\n",
    "    target=era5_ds,\n",
    ")\n",
    "task_loader_train.load_dask()\n",
    "print(task_loader_train)\n",
    "\n",
    "print()\n",
    "\n",
    "task_loader_val = TaskLoader(\n",
    "    context=[Initial_sensor_locations, land_mask_ds, lowres_aux_ds],\n",
    "    target=era5_ds,\n",
    ")\n",
    "task_loader_val.load_dask()\n",
    "print(task_loader_val)\n",
    "\n",
    "\n",
    "# set up model \n",
    "model = ConvNP(data_processor, task_loader_train, unet_channels = (32,32,32,32))\n",
    "\n",
    "# initializing train dates\n",
    "train_dates = pd.date_range(train_range[0],train_range[1])[::2]\n",
    "train_tasks = gen_tasks(train_dates,task_loader_train)\n",
    "\n",
    "# initialzing val dates\n",
    "# val_dates = pd.date_range(val_range[0], val_range[1])\n",
    "val_dates = [pd.to_datetime(val_range[0])]\n",
    "val_tasks = gen_tasks(val_dates,task_loader_val)\n",
    "\n",
    "initial_rmse = compute_val_rmse(model,val_tasks)\n",
    "initial_std = compute_std(model,val_tasks)\n",
    "\n",
    "print(initial_rmse)\n",
    "print(initial_std)\n",
    "\n",
    "lat_long_pairs_current = lat_long_pairs.copy()\n",
    "current_sensor_locations = Initial_sensor_locations.copy()\n",
    "\n",
    "train_model(model,train_tasks,val_tasks)\n",
    "\n",
    "greedy_alg = GreedyAlgorithm(\n",
    "    model=model,\n",
    "    X_t=era5_raw_ds,\n",
    "    X_s=era5_raw_ds.coarsen(lat=15, lon=15, boundary=\"trim\").mean(),  # Coarsen search points to speed up computation\n",
    "    X_s_mask=land_mask_raw_ds,  # Mask out ocean from search points\n",
    "    X_t_mask=land_mask_raw_ds,  # Mask out ocean from target points\n",
    "    N_new_context=1,\n",
    "    progress_bar=True,\n",
    "    task_loader=task_loader_train,\n",
    ")"
   ]
  },
  {
   "cell_type": "code",
   "execution_count": 39,
   "metadata": {},
   "outputs": [
    {
     "data": {
      "application/vnd.jupyter.widget-view+json": {
       "model_id": "22136c8619404809a77dfd4c42686b57",
       "version_major": 2,
       "version_minor": 0
      },
      "text/plain": [
       "  0%|          | 0/5 [00:00<?, ?it/s]"
      ]
     },
     "metadata": {},
     "output_type": "display_data"
    },
    {
     "name": "stderr",
     "output_type": "stream",
     "text": [
      "100%|██████████| 1/1 [00:00<00:00, 676.83it/s]\n"
     ]
    },
    {
     "name": "stdout",
     "output_type": "stream",
     "text": [
      "dim_yc inferred from TaskLoader: (1, 1, 3)\n",
      "dim_yt inferred from TaskLoader: 1\n",
      "dim_aux_t inferred from TaskLoader: 0\n",
      "internal_density inferred from TaskLoader: 400\n",
      "encoder_scales inferred from TaskLoader: [0.00125, np.float32(0.00125), np.float32(0.0041666664)]\n",
      "decoder_scale inferred from TaskLoader: 0.0025\n"
     ]
    },
    {
     "data": {
      "application/vnd.jupyter.widget-view+json": {
       "model_id": "37c497b8f73a40b9a23f80fb9ed7c1fb",
       "version_major": 2,
       "version_minor": 0
      },
      "text/plain": [
       "  0%|          | 0/183 [00:00<?, ?it/s]"
      ]
     },
     "metadata": {},
     "output_type": "display_data"
    },
    {
     "data": {
      "application/vnd.jupyter.widget-view+json": {
       "model_id": "86a9c251335345a5a4b80d48f495bf10",
       "version_major": 2,
       "version_minor": 0
      },
      "text/plain": [
       "  0%|          | 0/5 [00:00<?, ?it/s]"
      ]
     },
     "metadata": {},
     "output_type": "display_data"
    },
    {
     "name": "stderr",
     "output_type": "stream",
     "text": [
      "100%|██████████| 1/1 [00:00<00:00, 381.16it/s]\n"
     ]
    },
    {
     "name": "stdout",
     "output_type": "stream",
     "text": [
      "dim_yc inferred from TaskLoader: (1, 1, 3)\n",
      "dim_yt inferred from TaskLoader: 1\n",
      "dim_aux_t inferred from TaskLoader: 0\n",
      "internal_density inferred from TaskLoader: 400\n",
      "encoder_scales inferred from TaskLoader: [0.00125, np.float32(0.00125), np.float32(0.0041666664)]\n",
      "decoder_scale inferred from TaskLoader: 0.0025\n"
     ]
    },
    {
     "data": {
      "application/vnd.jupyter.widget-view+json": {
       "model_id": "b4dd6ae5c334425fb25f4558f950da3f",
       "version_major": 2,
       "version_minor": 0
      },
      "text/plain": [
       "  0%|          | 0/183 [00:00<?, ?it/s]"
      ]
     },
     "metadata": {},
     "output_type": "display_data"
    },
    {
     "data": {
      "application/vnd.jupyter.widget-view+json": {
       "model_id": "1365863df7d643b0bde6d55c6eefffa4",
       "version_major": 2,
       "version_minor": 0
      },
      "text/plain": [
       "  0%|          | 0/5 [00:00<?, ?it/s]"
      ]
     },
     "metadata": {},
     "output_type": "display_data"
    },
    {
     "name": "stderr",
     "output_type": "stream",
     "text": [
      "100%|██████████| 1/1 [00:00<00:00, 527.12it/s]\n"
     ]
    },
    {
     "name": "stdout",
     "output_type": "stream",
     "text": [
      "dim_yc inferred from TaskLoader: (1, 1, 3)\n",
      "dim_yt inferred from TaskLoader: 1\n",
      "dim_aux_t inferred from TaskLoader: 0\n",
      "internal_density inferred from TaskLoader: 400\n",
      "encoder_scales inferred from TaskLoader: [0.00125, np.float32(0.00125), np.float32(0.0041666664)]\n",
      "decoder_scale inferred from TaskLoader: 0.0025\n"
     ]
    },
    {
     "data": {
      "application/vnd.jupyter.widget-view+json": {
       "model_id": "32ccef328843487aa96f402c9d984a5c",
       "version_major": 2,
       "version_minor": 0
      },
      "text/plain": [
       "  0%|          | 0/183 [00:00<?, ?it/s]"
      ]
     },
     "metadata": {},
     "output_type": "display_data"
    },
    {
     "data": {
      "application/vnd.jupyter.widget-view+json": {
       "model_id": "35626f4b521d48e3a5047c67a94b66b3",
       "version_major": 2,
       "version_minor": 0
      },
      "text/plain": [
       "  0%|          | 0/5 [00:00<?, ?it/s]"
      ]
     },
     "metadata": {},
     "output_type": "display_data"
    },
    {
     "name": "stderr",
     "output_type": "stream",
     "text": [
      "100%|██████████| 1/1 [00:00<00:00, 381.40it/s]\n"
     ]
    },
    {
     "name": "stdout",
     "output_type": "stream",
     "text": [
      "dim_yc inferred from TaskLoader: (1, 1, 3)\n",
      "dim_yt inferred from TaskLoader: 1\n",
      "dim_aux_t inferred from TaskLoader: 0\n",
      "internal_density inferred from TaskLoader: 400\n",
      "encoder_scales inferred from TaskLoader: [0.00125, np.float32(0.00125), np.float32(0.0041666664)]\n",
      "decoder_scale inferred from TaskLoader: 0.0025\n"
     ]
    },
    {
     "data": {
      "application/vnd.jupyter.widget-view+json": {
       "model_id": "952b8599f804478d830e0eb8ae75c753",
       "version_major": 2,
       "version_minor": 0
      },
      "text/plain": [
       "  0%|          | 0/183 [00:00<?, ?it/s]"
      ]
     },
     "metadata": {},
     "output_type": "display_data"
    },
    {
     "data": {
      "application/vnd.jupyter.widget-view+json": {
       "model_id": "f3d3479ceb424c34b6b13023e6578111",
       "version_major": 2,
       "version_minor": 0
      },
      "text/plain": [
       "  0%|          | 0/5 [00:00<?, ?it/s]"
      ]
     },
     "metadata": {},
     "output_type": "display_data"
    },
    {
     "name": "stderr",
     "output_type": "stream",
     "text": [
      "100%|██████████| 1/1 [00:00<00:00, 410.48it/s]\n"
     ]
    },
    {
     "name": "stdout",
     "output_type": "stream",
     "text": [
      "dim_yc inferred from TaskLoader: (1, 1, 3)\n",
      "dim_yt inferred from TaskLoader: 1\n",
      "dim_aux_t inferred from TaskLoader: 0\n",
      "internal_density inferred from TaskLoader: 400\n",
      "encoder_scales inferred from TaskLoader: [0.00125, np.float32(0.00125), np.float32(0.0041666664)]\n",
      "decoder_scale inferred from TaskLoader: 0.0025\n"
     ]
    },
    {
     "data": {
      "application/vnd.jupyter.widget-view+json": {
       "model_id": "b78c7eeffda34403a2352585647b349c",
       "version_major": 2,
       "version_minor": 0
      },
      "text/plain": [
       "  0%|          | 0/183 [00:00<?, ?it/s]"
      ]
     },
     "metadata": {},
     "output_type": "display_data"
    },
    {
     "data": {
      "application/vnd.jupyter.widget-view+json": {
       "model_id": "78b47033628d4201a16e5e33196a4860",
       "version_major": 2,
       "version_minor": 0
      },
      "text/plain": [
       "  0%|          | 0/5 [00:00<?, ?it/s]"
      ]
     },
     "metadata": {},
     "output_type": "display_data"
    }
   ],
   "source": [
    "vars = []\n",
    "max_points_to_pick = 5\n",
    "lat_long_pairs_current = lat_long_pairs.copy()\n",
    "\n",
    "# initial_rmse = compute_val_rmse(model,val_tasks)\n",
    "# initial_std = compute_std(model,val_tasks)\n",
    "\n",
    "Random_rmse = [initial_rmse]\n",
    "Random_std = [initial_rmse]\n",
    "\n",
    "for iter in tqdm_notebook(range(max_points_to_pick)):\n",
    "\n",
    "    acquisition_fn = Random(model)\n",
    "\n",
    "    X_new_df, acquisition_fn_ds = greedy_alg(acquisition_fn, val_tasks)\n",
    "\n",
    "    x1,x2 = X_new_df.to_numpy()[0]\n",
    "    x1 = (x1-15)/100\n",
    "    x2 = (x2+160)/100\n",
    "    X_new_df  = pd.DataFrame([[x1,x2],],columns=['lat','lon'])\n",
    "\n",
    "    lat_long_pairs_current = pd.DataFrame(np.concat([lat_long_pairs_current,X_new_df.to_numpy()]),columns=['x1','x2'])\n",
    "    current_sensor_locations = pd.merge(era5_ds_df.reset_index(),lat_long_pairs_current, on =['x1','x2'],how='inner').set_index(['time','x1','x2'])\n",
    "\n",
    "    model = ConvNP(data_processor, task_loader_train, unet_channels = (32,32,32,32))\n",
    "    task_loader_current = TaskLoader(\n",
    "    context=[current_sensor_locations, land_mask_ds, lowres_aux_ds],\n",
    "    target=era5_ds,\n",
    "        )\n",
    "    task_loader_current.load_dask()\n",
    "    train_tasks = gen_tasks(train_dates,task_loader_current)\n",
    "    train_model(model,train_tasks)\n",
    "\n",
    "    rmse = compute_val_rmse(model,val_tasks)\n",
    "    std = compute_std(model,val_tasks)\n",
    "\n",
    "    Random_rmse.append(rmse)\n",
    "    Random_std.append(std)"
   ]
  },
  {
   "cell_type": "code",
   "execution_count": 40,
   "metadata": {},
   "outputs": [
    {
     "data": {
      "image/png": "[encoded data removed]",
      "text/plain": [
       "<Figure size 1000x500 with 2 Axes>"
      ]
     },
     "metadata": {},
     "output_type": "display_data"
    }
   ],
   "source": [
    "plt.figure(figsize=(10,5),dpi=100)\n",
    "plt.subplot(1,2,1)\n",
    "plt.plot(MeanStddev_rmse, label=\"MeanStddev\")\n",
    "plt.plot(pNormStddev_rmse,label = \"pNormStddev\")\n",
    "plt.plot(OracleMAE_rmse, label = \"OracleMAE\")\n",
    "plt.plot(Random_rmse, label = \"Random\")\n",
    "plt.ylabel(\"RMSE\")\n",
    "plt.xlabel(\"Iterations\")\n",
    "plt.title(\"RMSE curve per iteration MeanStddev\")\n",
    "plt.legend()\n",
    "\n",
    "plt.subplot(1,2,2)\n",
    "plt.plot(MeanStddev_std, label=\"MeanStddev\")\n",
    "plt.plot(pNormStddev_std, label = \"pNormStddev\")\n",
    "plt.plot(OracleMAE_std, label = \"OracleMAE\")\n",
    "plt.plot(Random_std, label = \"Random_std\")\n",
    "plt.ylabel(\"Std dev\")\n",
    "plt.xlabel(\"Iterations\")\n",
    "plt.title(\"Std Dev curve per iteration MeanStddev\")\n",
    "plt.legend()\n",
    "\n",
    "plt.show()"
   ]
  },
  {
   "cell_type": "markdown",
   "metadata": {},
   "source": [
    "### Oracle marginal NLL"
   ]
  },
  {
   "cell_type": "code",
   "execution_count": 41,
   "metadata": {},
   "outputs": [],
   "source": [
    "from deepsensor.active_learning.acquisition_fns import OracleMarginalNLL"
   ]
  },
  {
   "cell_type": "code",
   "execution_count": 42,
   "metadata": {},
   "outputs": [
    {
     "name": "stdout",
     "output_type": "stream",
     "text": [
      "TaskLoader(3 context sets, 1 target sets)\n",
      "Context variable IDs: (('2m_temperature',), ('GLDAS_mask',), ('elevation', 'cos_D', 'sin_D'))\n",
      "Target variable IDs: (('2m_temperature',),)\n",
      "\n",
      "TaskLoader(3 context sets, 1 target sets)\n",
      "Context variable IDs: (('2m_temperature',), ('GLDAS_mask',), ('elevation', 'cos_D', 'sin_D'))\n",
      "Target variable IDs: (('2m_temperature',),)\n",
      "dim_yc inferred from TaskLoader: (1, 1, 3)\n",
      "dim_yt inferred from TaskLoader: 1\n",
      "dim_aux_t inferred from TaskLoader: 0\n",
      "internal_density inferred from TaskLoader: 400\n",
      "encoder_scales inferred from TaskLoader: [0.00125, np.float32(0.00125), np.float32(0.0041666664)]\n",
      "decoder_scale inferred from TaskLoader: 0.0025\n"
     ]
    },
    {
     "data": {
      "application/vnd.jupyter.widget-view+json": {
       "model_id": "09f7605d98234f218de308d3c7612d71",
       "version_major": 2,
       "version_minor": 0
      },
      "text/plain": [
       "  0%|          | 0/183 [00:00<?, ?it/s]"
      ]
     },
     "metadata": {},
     "output_type": "display_data"
    },
    {
     "data": {
      "application/vnd.jupyter.widget-view+json": {
       "model_id": "a7abd3b671604b62ac959019c0670005",
       "version_major": 2,
       "version_minor": 0
      },
      "text/plain": [
       "  0%|          | 0/1 [00:00<?, ?it/s]"
      ]
     },
     "metadata": {},
     "output_type": "display_data"
    },
    {
     "name": "stdout",
     "output_type": "stream",
     "text": [
      "67.094826\n",
      "57.074818\n"
     ]
    },
    {
     "data": {
      "application/vnd.jupyter.widget-view+json": {
       "model_id": "deca6c9db82f485cb91adc5e2dd73b45",
       "version_major": 2,
       "version_minor": 0
      },
      "text/plain": [
       "  0%|          | 0/5 [00:00<?, ?it/s]"
      ]
     },
     "metadata": {},
     "output_type": "display_data"
    },
    {
     "name": "stdout",
     "output_type": "stream",
     "text": [
      "Epoch 1 | Error 14.05 | std 12.79\n",
      "Epoch 2 | Error 12.33 | std 12.57\n",
      "Epoch 3 | Error 11.73 | std 12.08\n",
      "Epoch 4 | Error 10.45 | std 10.51\n",
      "Epoch 5 | Error 9.80 | std 8.98\n"
     ]
    }
   ],
   "source": [
    "\n",
    "task_loader_train = TaskLoader(\n",
    "    context=[Initial_sensor_locations, land_mask_ds, lowres_aux_ds],\n",
    "    target=era5_ds,\n",
    ")\n",
    "task_loader_train.load_dask()\n",
    "print(task_loader_train)\n",
    "\n",
    "print()\n",
    "\n",
    "task_loader_val = TaskLoader(\n",
    "    context=[Initial_sensor_locations, land_mask_ds, lowres_aux_ds],\n",
    "    target=era5_ds,\n",
    ")\n",
    "task_loader_val.load_dask()\n",
    "print(task_loader_val)\n",
    "\n",
    "\n",
    "# set up model \n",
    "model = ConvNP(data_processor, task_loader_train, unet_channels = (32,32,32,32))\n",
    "\n",
    "# initializing train dates\n",
    "train_dates = pd.date_range(train_range[0],train_range[1])[::2]\n",
    "train_tasks = gen_tasks(train_dates,task_loader_train)\n",
    "\n",
    "# initialzing val dates\n",
    "# val_dates = pd.date_range(val_range[0], val_range[1])\n",
    "val_dates = [pd.to_datetime(val_range[0])]\n",
    "val_tasks = gen_tasks(val_dates,task_loader_val)\n",
    "\n",
    "initial_rmse = compute_val_rmse(model,val_tasks)\n",
    "initial_std = compute_std(model,val_tasks)\n",
    "\n",
    "print(initial_rmse)\n",
    "print(initial_std)\n",
    "\n",
    "lat_long_pairs_current = lat_long_pairs.copy()\n",
    "current_sensor_locations = Initial_sensor_locations.copy()\n",
    "\n",
    "train_model(model,train_tasks,val_tasks)\n",
    "\n",
    "greedy_alg = GreedyAlgorithm(\n",
    "    model=model,\n",
    "    X_t=era5_raw_ds,\n",
    "    X_s=era5_raw_ds.coarsen(lat=15, lon=15, boundary=\"trim\").mean(),  # Coarsen search points to speed up computation\n",
    "    X_s_mask=land_mask_raw_ds,  # Mask out ocean from search points\n",
    "    X_t_mask=land_mask_raw_ds,  # Mask out ocean from target points\n",
    "    N_new_context=1,\n",
    "    progress_bar=True,\n",
    "    task_loader=task_loader_train,\n",
    ")"
   ]
  },
  {
   "cell_type": "code",
   "execution_count": 43,
   "metadata": {},
   "outputs": [
    {
     "data": {
      "application/vnd.jupyter.widget-view+json": {
       "model_id": "dae997d3a0754480b0b7d628bf5b56eb",
       "version_major": 2,
       "version_minor": 0
      },
      "text/plain": [
       "  0%|          | 0/5 [00:00<?, ?it/s]"
      ]
     },
     "metadata": {},
     "output_type": "display_data"
    },
    {
     "name": "stderr",
     "output_type": "stream",
     "text": [
      "100%|██████████| 193/193 [03:06<00:00,  1.03it/s]\n"
     ]
    },
    {
     "name": "stdout",
     "output_type": "stream",
     "text": [
      "dim_yc inferred from TaskLoader: (1, 1, 3)\n",
      "dim_yt inferred from TaskLoader: 1\n",
      "dim_aux_t inferred from TaskLoader: 0\n",
      "internal_density inferred from TaskLoader: 400\n",
      "encoder_scales inferred from TaskLoader: [0.00125, np.float32(0.00125), np.float32(0.0041666664)]\n",
      "decoder_scale inferred from TaskLoader: 0.0025\n"
     ]
    },
    {
     "data": {
      "application/vnd.jupyter.widget-view+json": {
       "model_id": "1a8beb32e18e45249b25c80fe582a3e3",
       "version_major": 2,
       "version_minor": 0
      },
      "text/plain": [
       "  0%|          | 0/183 [00:00<?, ?it/s]"
      ]
     },
     "metadata": {},
     "output_type": "display_data"
    },
    {
     "data": {
      "application/vnd.jupyter.widget-view+json": {
       "model_id": "db6d65ff33124b36bf1e2c60252e42e2",
       "version_major": 2,
       "version_minor": 0
      },
      "text/plain": [
       "  0%|          | 0/5 [00:00<?, ?it/s]"
      ]
     },
     "metadata": {},
     "output_type": "display_data"
    },
    {
     "name": "stderr",
     "output_type": "stream",
     "text": [
      "100%|██████████| 193/193 [03:22<00:00,  1.05s/it]\n"
     ]
    },
    {
     "name": "stdout",
     "output_type": "stream",
     "text": [
      "dim_yc inferred from TaskLoader: (1, 1, 3)\n",
      "dim_yt inferred from TaskLoader: 1\n",
      "dim_aux_t inferred from TaskLoader: 0\n",
      "internal_density inferred from TaskLoader: 400\n",
      "encoder_scales inferred from TaskLoader: [0.00125, np.float32(0.00125), np.float32(0.0041666664)]\n",
      "decoder_scale inferred from TaskLoader: 0.0025\n"
     ]
    },
    {
     "data": {
      "application/vnd.jupyter.widget-view+json": {
       "model_id": "737bece9f75940b783dcd8e20d22ec8d",
       "version_major": 2,
       "version_minor": 0
      },
      "text/plain": [
       "  0%|          | 0/183 [00:00<?, ?it/s]"
      ]
     },
     "metadata": {},
     "output_type": "display_data"
    },
    {
     "data": {
      "application/vnd.jupyter.widget-view+json": {
       "model_id": "47bf7e212c8143edab6580482ee6d87f",
       "version_major": 2,
       "version_minor": 0
      },
      "text/plain": [
       "  0%|          | 0/5 [00:00<?, ?it/s]"
      ]
     },
     "metadata": {},
     "output_type": "display_data"
    },
    {
     "name": "stderr",
     "output_type": "stream",
     "text": [
      "100%|██████████| 193/193 [03:16<00:00,  1.02s/it]\n"
     ]
    },
    {
     "name": "stdout",
     "output_type": "stream",
     "text": [
      "dim_yc inferred from TaskLoader: (1, 1, 3)\n",
      "dim_yt inferred from TaskLoader: 1\n",
      "dim_aux_t inferred from TaskLoader: 0\n",
      "internal_density inferred from TaskLoader: 400\n",
      "encoder_scales inferred from TaskLoader: [0.00125, np.float32(0.00125), np.float32(0.0041666664)]\n",
      "decoder_scale inferred from TaskLoader: 0.0025\n"
     ]
    },
    {
     "data": {
      "application/vnd.jupyter.widget-view+json": {
       "model_id": "a61ca5a9a3b9465488d6ed24a51b5a5d",
       "version_major": 2,
       "version_minor": 0
      },
      "text/plain": [
       "  0%|          | 0/183 [00:00<?, ?it/s]"
      ]
     },
     "metadata": {},
     "output_type": "display_data"
    },
    {
     "data": {
      "application/vnd.jupyter.widget-view+json": {
       "model_id": "c4cda022eab04815a98dbfc364f33373",
       "version_major": 2,
       "version_minor": 0
      },
      "text/plain": [
       "  0%|          | 0/5 [00:00<?, ?it/s]"
      ]
     },
     "metadata": {},
     "output_type": "display_data"
    },
    {
     "name": "stderr",
     "output_type": "stream",
     "text": [
      "100%|██████████| 193/193 [03:11<00:00,  1.01it/s]\n"
     ]
    },
    {
     "name": "stdout",
     "output_type": "stream",
     "text": [
      "dim_yc inferred from TaskLoader: (1, 1, 3)\n",
      "dim_yt inferred from TaskLoader: 1\n",
      "dim_aux_t inferred from TaskLoader: 0\n",
      "internal_density inferred from TaskLoader: 400\n",
      "encoder_scales inferred from TaskLoader: [0.00125, np.float32(0.00125), np.float32(0.0041666664)]\n",
      "decoder_scale inferred from TaskLoader: 0.0025\n"
     ]
    },
    {
     "data": {
      "application/vnd.jupyter.widget-view+json": {
       "model_id": "224b40364827489f92024634d857a2ee",
       "version_major": 2,
       "version_minor": 0
      },
      "text/plain": [
       "  0%|          | 0/183 [00:00<?, ?it/s]"
      ]
     },
     "metadata": {},
     "output_type": "display_data"
    },
    {
     "data": {
      "application/vnd.jupyter.widget-view+json": {
       "model_id": "4fba9c3cb19b45cf841dd343b74a5e91",
       "version_major": 2,
       "version_minor": 0
      },
      "text/plain": [
       "  0%|          | 0/5 [00:00<?, ?it/s]"
      ]
     },
     "metadata": {},
     "output_type": "display_data"
    },
    {
     "name": "stderr",
     "output_type": "stream",
     "text": [
      "100%|██████████| 193/193 [03:16<00:00,  1.02s/it]\n"
     ]
    },
    {
     "name": "stdout",
     "output_type": "stream",
     "text": [
      "dim_yc inferred from TaskLoader: (1, 1, 3)\n",
      "dim_yt inferred from TaskLoader: 1\n",
      "dim_aux_t inferred from TaskLoader: 0\n",
      "internal_density inferred from TaskLoader: 400\n",
      "encoder_scales inferred from TaskLoader: [0.00125, np.float32(0.00125), np.float32(0.0041666664)]\n",
      "decoder_scale inferred from TaskLoader: 0.0025\n"
     ]
    },
    {
     "data": {
      "application/vnd.jupyter.widget-view+json": {
       "model_id": "a6bae28d3b54456c8eeb79a9c10218fb",
       "version_major": 2,
       "version_minor": 0
      },
      "text/plain": [
       "  0%|          | 0/183 [00:00<?, ?it/s]"
      ]
     },
     "metadata": {},
     "output_type": "display_data"
    },
    {
     "data": {
      "application/vnd.jupyter.widget-view+json": {
       "model_id": "6ed7eedf030b4b299481f1797db419dd",
       "version_major": 2,
       "version_minor": 0
      },
      "text/plain": [
       "  0%|          | 0/5 [00:00<?, ?it/s]"
      ]
     },
     "metadata": {},
     "output_type": "display_data"
    }
   ],
   "source": [
    "vars = []\n",
    "max_points_to_pick = 5\n",
    "lat_long_pairs_current = lat_long_pairs.copy()\n",
    "\n",
    "# initial_rmse = compute_val_rmse(model,val_tasks)\n",
    "# initial_std = compute_std(model,val_tasks)\n",
    "\n",
    "OracleMarginalNLL_rmse = [initial_rmse]\n",
    "OracleMarginalNLL_std = [initial_rmse]\n",
    "\n",
    "for iter in tqdm_notebook(range(max_points_to_pick)):\n",
    "\n",
    "    acquisition_fn = OracleMarginalNLL(model)\n",
    "\n",
    "    X_new_df, acquisition_fn_ds = greedy_alg(acquisition_fn, val_tasks)\n",
    "\n",
    "    x1,x2 = X_new_df.to_numpy()[0]\n",
    "    x1 = (x1-15)/100\n",
    "    x2 = (x2+160)/100\n",
    "    X_new_df  = pd.DataFrame([[x1,x2],],columns=['lat','lon'])\n",
    "\n",
    "    lat_long_pairs_current = pd.DataFrame(np.concat([lat_long_pairs_current,X_new_df.to_numpy()]),columns=['x1','x2'])\n",
    "    current_sensor_locations = pd.merge(era5_ds_df.reset_index(),lat_long_pairs_current, on =['x1','x2'],how='inner').set_index(['time','x1','x2'])\n",
    "\n",
    "    model = ConvNP(data_processor, task_loader_train, unet_channels = (32,32,32,32))\n",
    "    task_loader_current = TaskLoader(\n",
    "    context=[current_sensor_locations, land_mask_ds, lowres_aux_ds],\n",
    "    target=era5_ds,\n",
    "        )\n",
    "    task_loader_current.load_dask()\n",
    "    train_tasks = gen_tasks(train_dates,task_loader_current)\n",
    "    train_model(model,train_tasks)\n",
    "\n",
    "    rmse = compute_val_rmse(model,val_tasks)\n",
    "    std = compute_std(model,val_tasks)\n",
    "\n",
    "    OracleMarginalNLL_rmse.append(rmse)\n",
    "    OracleMarginalNLL_std.append(std)"
   ]
  },
  {
   "cell_type": "code",
   "execution_count": 46,
   "metadata": {},
   "outputs": [
    {
     "data": {
      "image/png": "[encoded data removed]",
      "text/plain": [
       "<Figure size 1000x500 with 2 Axes>"
      ]
     },
     "metadata": {},
     "output_type": "display_data"
    }
   ],
   "source": [
    "plt.figure(figsize=(10,5),dpi=100)\n",
    "plt.subplot(1,2,1)\n",
    "plt.plot(MeanStddev_rmse, label=\"MeanStddev\")\n",
    "plt.plot(pNormStddev_rmse,label = \"pNormStddev\")\n",
    "plt.plot(OracleMAE_rmse, label = \"OracleMAE\")\n",
    "plt.plot(Random_rmse, label = \"Random\")\n",
    "plt.plot(OracleMarginalNLL_rmse, label = \"OracleMarginalNLL\")\n",
    "plt.ylabel(\"RMSE\")\n",
    "plt.xlabel(\"Iterations\")\n",
    "plt.title(\"RMSE curve per iteration MeanStddev\")\n",
    "#plt.ylim(0,10)\n",
    "plt.legend()\n",
    "\n",
    "plt.subplot(1,2,2)\n",
    "plt.plot(MeanStddev_std, label=\"MeanStddev\")\n",
    "plt.plot(pNormStddev_std, label = \"pNormStddev\")\n",
    "plt.plot(OracleMAE_std, label = \"OracleMAE\")\n",
    "plt.plot(Random_std, label = \"Random_std\")\n",
    "plt.plot(OracleMarginalNLL_std, label = \"OracleMarginalNLL_std\")\n",
    "plt.ylabel(\"Std dev\")\n",
    "plt.xlabel(\"Iterations\")\n",
    "plt.title(\"Std Dev curve per iteration MeanStddev\")\n",
    "#plt.ylim(0,10)\n",
    "plt.legend()\n",
    "\n",
    "plt.show()"
   ]
  },
  {
   "cell_type": "code",
   "execution_count": null,
   "metadata": {},
   "outputs": [],
   "source": []
  }
 ],
 "metadata": {
  "kernelspec": {
   "display_name": "Oasis",
   "language": "python",
   "name": "python3"
  },
  "language_info": {
   "codemirror_mode": {
    "name": "ipython",
    "version": 3
   },
   "file_extension": ".py",
   "mimetype": "text/x-python",
   "name": "python",
   "nbconvert_exporter": "python",
   "pygments_lexer": "ipython3",
   "version": "3.9.20"
  }
 },
 "nbformat": 4,
 "nbformat_minor": 2
}
